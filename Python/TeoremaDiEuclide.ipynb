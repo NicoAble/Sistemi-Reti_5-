{
 "cells": [
  {
   "cell_type": "code",
   "execution_count": 11,
   "id": "242ea3b2",
   "metadata": {},
   "outputs": [],
   "source": [
    "n1 = 125\n",
    "n2 = 50"
   ]
  },
  {
   "cell_type": "code",
   "execution_count": 14,
   "id": "0d08ef5f",
   "metadata": {},
   "outputs": [],
   "source": [
    "def calcoloMCD(a, b):\n",
    "    if b > a:\n",
    "        c, a, b = a, b, c\n",
    "    divisore = 1\n",
    "    while divisore != 0:\n",
    "        divisore = a % b\n",
    "        if(divisore != 0):\n",
    "            a = min(a,b)\n",
    "            b = divisore\n",
    "        else: print(b) "
   ]
  },
  {
   "cell_type": "code",
   "execution_count": 15,
   "id": "d38f7949",
   "metadata": {},
   "outputs": [
    {
     "name": "stdout",
     "output_type": "stream",
     "text": [
      "25\n"
     ]
    }
   ],
   "source": [
    "calcoloMCD(n1,n2)"
   ]
  },
  {
   "cell_type": "code",
   "execution_count": null,
   "id": "41dc2ce9",
   "metadata": {},
   "outputs": [],
   "source": []
  }
 ],
 "metadata": {
  "kernelspec": {
   "display_name": "Python 3 (ipykernel)",
   "language": "python",
   "name": "python3"
  },
  "language_info": {
   "codemirror_mode": {
    "name": "ipython",
    "version": 3
   },
   "file_extension": ".py",
   "mimetype": "text/x-python",
   "name": "python",
   "nbconvert_exporter": "python",
   "pygments_lexer": "ipython3",
   "version": "3.11.4"
  }
 },
 "nbformat": 4,
 "nbformat_minor": 5
}
